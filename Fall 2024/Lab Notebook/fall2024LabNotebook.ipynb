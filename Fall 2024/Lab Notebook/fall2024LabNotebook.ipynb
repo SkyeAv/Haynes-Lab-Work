{
 "cells": [
  {
   "cell_type": "markdown",
   "metadata": {},
   "source": [
    "### 09/30/24\n",
    "* **FIRST LINE FORMAT** xyz (charge) (multiplicity)\n",
    "    * multiplicty = (# unpaired electrons * 2) + 1\n",
    "* ! = command\n",
    "    * Follow with\n",
    "        * Functional\n",
    "            * Density Functional Theory Orbitals\n",
    "        * Basis\n",
    "            * Density Functional Theory Basis Sets\n",
    "* https://sites.google.com/site/orcainputlibrary/home FOR A GUIDE\n",
    "\n",
    "#### Bonds\n",
    "* $\\Sigma$ Bonds = Hotdog shape\n",
    "* $\\Pi$ Bonds = Peanut Shape\n",
    "\n",
    "#### Parser\n",
    "* Final Single Point Energy\n",
    "    * Units = Hartree"
   ]
  },
  {
   "cell_type": "markdown",
   "metadata": {},
   "source": [
    "## 10/03/24\n",
    "\n",
    "**Functionals to Focus On...**\n",
    "* SDM solvent model\n",
    "\n",
    "**Orca 6**\n",
    "* Orca 6 is riddled with bugs\n",
    "    * Makes interesting approxomations\n",
    "\n",
    "**Goals**\n",
    "* Chech Harvere Calculations\n",
    "    * Remove Natural Transition Orbitals\n",
    "* Fix Jwall Visualization\n",
    "* Ngl Viewer and Surfaces\n",
    "* **PUT THE CHARGE FOR THE INPUT FILE**"
   ]
  }
 ],
 "metadata": {
  "language_info": {
   "name": "python"
  }
 },
 "nbformat": 4,
 "nbformat_minor": 2
}
